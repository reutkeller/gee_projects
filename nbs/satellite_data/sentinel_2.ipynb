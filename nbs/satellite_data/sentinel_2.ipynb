{
 "cells": [
  {
   "cell_type": "code",
   "execution_count": 1,
   "metadata": {},
   "outputs": [],
   "source": [
    "#|default_exp img_sen2"
   ]
  },
  {
   "cell_type": "markdown",
   "metadata": {},
   "source": [
    "# Sentinel 2"
   ]
  },
  {
   "cell_type": "code",
   "execution_count": 2,
   "metadata": {},
   "outputs": [],
   "source": [
    "#|hide\n",
    "from nbdev.showdoc import *"
   ]
  },
  {
   "cell_type": "code",
   "execution_count": 19,
   "metadata": {},
   "outputs": [],
   "source": [
    "#|hide\n",
    "#|export\n",
    "\n",
    "import geopandas as gpd\n",
    "import seaborn as sns\n",
    "from shapely.geometry import Point\n",
    "import json\n",
    "import ee\n",
    "import geemap\n",
    "\n",
    "ee.Authenticate()\n",
    "ee.Initialize(project='ee-reutkeller')\n",
    "\n",
    "from gee_projects import util_func as utils\n",
    "from gee_projects import const_vars as const\n",
    "from gee_projects import mask_s2 as mask_s2"
   ]
  },
  {
   "cell_type": "markdown",
   "metadata": {},
   "source": [
    "sentinel-2 class"
   ]
  },
  {
   "cell_type": "code",
   "execution_count": 8,
   "metadata": {},
   "outputs": [],
   "source": [
    "#|export\n",
    "\n",
    "class access_s2_image():\n",
    "  \n",
    "  def __init__(self,\n",
    "               path_to_geometry : str , # path to geometry file, can be .shp or .gpkg . example : r\"D:\\git\\gee_maps\\nbs\\geometry\\test_bbox.gpkg\"\n",
    "               crs : str , #coordinate reference system to work with\n",
    "               start_date : str , # Start date for searching images. , \n",
    "               end_date : str , # End date for searching images.\n",
    "               ):\n",
    "    \n",
    "    self.crs = crs\n",
    "    self.fc = utils.gdf_to_featureCollection(\n",
    "      utils.read_gdf(geometry_path=path_to_geometry,crs=self.crs))\n",
    "    self.start_date=start_date\n",
    "    self.end_date=end_date\n",
    "    \n",
    "    \n",
    "    self.fc = utils.gdf_to_featureCollection(utils.read_gdf\n",
    "                                        (geometry_path=path_to_geometry,crs=self.crs))\n",
    "    \n",
    "    s2_sr_cld_col_eval = mask_s2.get_s2_sr_cld_col(self.fc, self.start_date, self.end_date)\n",
    "\n",
    "    self.s2_sr = (s2_sr_cld_col_eval.map(mask_s2.add_cld_shdw_mask)\n",
    "             .map(mask_s2.apply_cld_shdw_mask))\n",
    "\n",
    "  \n",
    "\n",
    "    \n",
    "\n",
    "    "
   ]
  },
  {
   "cell_type": "code",
   "execution_count": 14,
   "metadata": {},
   "outputs": [],
   "source": [
    "extractor = access_s2_image(path_to_geometry=r\"D:\\git\\gee_maps\\nbs\\geometry\\test_bbox.gpkg\", \n",
    "                            crs = \"4326\",\n",
    "                            start_date = '2023-05-06',\n",
    "                            end_date = '2023-10-08')\n",
    "\n",
    "coll= extractor.s2_sr"
   ]
  },
  {
   "cell_type": "code",
   "execution_count": 15,
   "metadata": {},
   "outputs": [],
   "source": [
    "# Function to extract dates from image collection\n",
    "def extract_dates(img):\n",
    "    date = ee.Date(img.get('system:time_start')).format('YYYY-MM-dd')\n",
    "    return ee.Feature(None, {'date': date})\n",
    "\n",
    "# Map the function over the image collection\n",
    "dates_list = coll.map(extract_dates).aggregate_array('date').getInfo()\n"
   ]
  },
  {
   "cell_type": "code",
   "execution_count": 17,
   "metadata": {},
   "outputs": [
    {
     "data": {
      "text/plain": [
       "['B1', 'B2', 'B3', 'B4', 'B5', 'B6', 'B7', 'B8', 'B8A', 'B9', 'B11', 'B12']"
      ]
     },
     "execution_count": 17,
     "metadata": {},
     "output_type": "execute_result"
    }
   ],
   "source": [
    "coll.first().bandNames().getInfo()"
   ]
  },
  {
   "cell_type": "code",
   "execution_count": 21,
   "metadata": {},
   "outputs": [],
   "source": [
    "Map = geemap.Map()\n",
    "\n",
    "Map.add_basemap(\"SATELLITE\")\n",
    "\n",
    "Viz = {'min': 0, 'max': 7000, 'palette': [    'FFFFFF', 'CE7E45', 'DF923D', 'F1B555', 'FCD163', '99B718', '74A901',\n",
    "                                         '66A000', '529400', '3E8601', '207401', '056201', '004C00', '023B01',\n",
    "                                         '012E01', '011D01', '011301']}\n",
    "\n",
    "Map.addLayer(coll.first(), {}, \"img1\")\n",
    "\n",
    "Map.centerObject(extractor.fc)\n",
    "Map"
   ]
  },
  {
   "cell_type": "code",
   "execution_count": 16,
   "metadata": {},
   "outputs": [
    {
     "data": {
      "text/plain": [
       "['2023-05-10',\n",
       " '2023-05-10',\n",
       " '2023-05-15',\n",
       " '2023-05-15',\n",
       " '2023-05-20',\n",
       " '2023-05-20',\n",
       " '2023-05-25',\n",
       " '2023-05-25',\n",
       " '2023-05-30',\n",
       " '2023-05-30',\n",
       " '2023-06-04',\n",
       " '2023-06-04',\n",
       " '2023-06-14',\n",
       " '2023-06-14',\n",
       " '2023-06-19',\n",
       " '2023-06-19',\n",
       " '2023-06-24',\n",
       " '2023-06-24',\n",
       " '2023-06-29',\n",
       " '2023-06-29',\n",
       " '2023-07-04',\n",
       " '2023-07-04',\n",
       " '2023-07-09',\n",
       " '2023-07-09',\n",
       " '2023-07-14',\n",
       " '2023-07-14',\n",
       " '2023-07-19',\n",
       " '2023-07-19',\n",
       " '2023-07-24',\n",
       " '2023-07-24',\n",
       " '2023-07-29',\n",
       " '2023-07-29',\n",
       " '2023-08-03',\n",
       " '2023-08-03',\n",
       " '2023-08-08',\n",
       " '2023-08-08',\n",
       " '2023-08-13',\n",
       " '2023-08-13',\n",
       " '2023-08-18',\n",
       " '2023-08-18',\n",
       " '2023-08-23',\n",
       " '2023-08-23',\n",
       " '2023-08-28',\n",
       " '2023-08-28',\n",
       " '2023-09-02',\n",
       " '2023-09-02',\n",
       " '2023-09-07',\n",
       " '2023-09-07',\n",
       " '2023-09-12',\n",
       " '2023-09-12',\n",
       " '2023-09-17',\n",
       " '2023-09-17',\n",
       " '2023-09-22',\n",
       " '2023-09-22',\n",
       " '2023-09-27',\n",
       " '2023-09-27',\n",
       " '2023-10-07',\n",
       " '2023-10-07']"
      ]
     },
     "execution_count": 16,
     "metadata": {},
     "output_type": "execute_result"
    }
   ],
   "source": [
    "dates_list"
   ]
  },
  {
   "cell_type": "code",
   "execution_count": null,
   "metadata": {},
   "outputs": [],
   "source": []
  }
 ],
 "metadata": {
  "kernelspec": {
   "display_name": ".venv",
   "language": "python",
   "name": "python3"
  },
  "language_info": {
   "codemirror_mode": {
    "name": "ipython",
    "version": 3
   },
   "file_extension": ".py",
   "mimetype": "text/x-python",
   "name": "python",
   "nbconvert_exporter": "python",
   "pygments_lexer": "ipython3",
   "version": "3.12.1"
  }
 },
 "nbformat": 4,
 "nbformat_minor": 2
}
