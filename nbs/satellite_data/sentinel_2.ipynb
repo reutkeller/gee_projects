{
 "cells": [
  {
   "cell_type": "code",
   "execution_count": 1,
   "metadata": {},
   "outputs": [],
   "source": [
    "#|default_exp img_sen2"
   ]
  },
  {
   "cell_type": "markdown",
   "metadata": {},
   "source": [
    "# Sentinel 2"
   ]
  },
  {
   "cell_type": "code",
   "execution_count": 2,
   "metadata": {},
   "outputs": [],
   "source": [
    "#|hide\n",
    "from nbdev.showdoc import *"
   ]
  },
  {
   "cell_type": "code",
   "execution_count": 3,
   "metadata": {},
   "outputs": [],
   "source": [
    "#|hide\n",
    "#|export\n",
    "\n",
    "import geopandas as gpd\n",
    "import seaborn as sns\n",
    "from shapely.geometry import Point\n",
    "import json\n",
    "import ee\n",
    "import geemap\n",
    "from datetime import datetime\n",
    "\n",
    "ee.Authenticate()\n",
    "ee.Initialize(project='ee-reutkeller')\n",
    "\n",
    "from gee_projects import util_func as utils\n",
    "from gee_projects import const_vars as const\n",
    "from gee_projects import mask_s2 as mask_s2"
   ]
  },
  {
   "cell_type": "markdown",
   "metadata": {},
   "source": [
    "sentinel-2 class"
   ]
  },
  {
   "cell_type": "code",
   "execution_count": 4,
   "metadata": {},
   "outputs": [],
   "source": [
    "#|export\n",
    "\n",
    "class access_s2_image():\n",
    "  \n",
    "  def __init__(self,\n",
    "               path_to_geometry : str , # path to geometry file, can be .shp or .gpkg . example : r\"D:\\git\\gee_maps\\nbs\\geometry\\test_bbox.gpkg\"\n",
    "               crs : str , #coordinate reference system to work with\n",
    "               start_date : str , # Start date for searching images. , \n",
    "               end_date : str , # End date for searching images.\n",
    "\n",
    "               one_day_image : bool == True , # when True, image will be generated for the neares date to the provided user_date, else, median image between the two dates will be generated. \n",
    "               user_date : str==None , # The user-provided date of interest; the script accesses the image with the closest available date to the provided date\n",
    "               ):\n",
    "    \n",
    "    if one_day_image and user_date is None:\n",
    "      raise ValueError(\"Error:if one_day_image is True, user_date cannot be None. Please insert a date or change one_day_image to False to get aggregated image.\")\n",
    "        \n",
    "    self.crs = crs\n",
    "    self.fc = utils.gdf_to_featureCollection(\n",
    "      utils.read_gdf(geometry_path=path_to_geometry,crs=self.crs))\n",
    "    self.start_date=start_date\n",
    "    self.end_date=end_date\n",
    "    self.one_day_image = one_day_image\n",
    "    self.user_date = user_date\n",
    "    \n",
    "    self.fc = utils.gdf_to_featureCollection(utils.read_gdf\n",
    "                                        (geometry_path=path_to_geometry,crs=self.crs))\n",
    "    \n",
    "    #pre process s2\n",
    "    s2_sr_cld_col_eval = mask_s2.get_s2_sr_cld_col(self.fc, self.start_date, self.end_date)\n",
    "\n",
    "    self.s2_sr = (s2_sr_cld_col_eval.map(mask_s2.add_cld_shdw_mask)\n",
    "             .map(mask_s2.apply_cld_shdw_mask))\n",
    "\n",
    "    if one_day_image:\n",
    "\n",
    "      #get list of available dates of the image collection\n",
    "      self.available_dates = utils.list_dates(self.s2_sr)\n",
    "      self.closest_date = utils.find_closest_date(date_list = self.available_dates,\n",
    "                                                  user_date=self.user_date)\n",
    "      \n",
    "      #filter image collection to get the image from the closest date :\n",
    "      print(f'Requested date: {self.user_date}\\n' \n",
    "            f'The nearest date available: {self.closest_date}')\n",
    "      \n",
    "      day_before_day_after = utils.get_day_before_day_after(self.closest_date)\n",
    "      self.img = self.s2_sr.filterDate(day_before_day_after[0], day_before_day_after[1]).mosaic().clip(self.fc)\n",
    "    \n",
    "    else:\n",
    "      self.img = self.s2_sr.median().clip(self.fc)\n"
   ]
  },
  {
   "cell_type": "code",
   "execution_count": 6,
   "metadata": {},
   "outputs": [
    {
     "name": "stdout",
     "output_type": "stream",
     "text": [
      "Requested date: 2023-10-07\n",
      "The nearest date available: 2023-10-07\n"
     ]
    },
    {
     "data": {
      "text/plain": [
       "<ee.image.Image at 0x12b6af41be0>"
      ]
     },
     "execution_count": 6,
     "metadata": {},
     "output_type": "execute_result"
    }
   ],
   "source": [
    "extractor = access_s2_image(path_to_geometry=r\"D:\\git\\gee_maps\\nbs\\geometry\\test_bbox.gpkg\", \n",
    "                            crs = \"4326\",\n",
    "                            start_date = '2023-10-06',\n",
    "                            end_date = '2023-10-08',\n",
    "                            one_day_image = True,\n",
    "                            user_date = '2023-10-07')\n",
    "\n",
    "# extractor.img.bandNames().getInfo()\n",
    "extractor.img"
   ]
  },
  {
   "cell_type": "code",
   "execution_count": null,
   "metadata": {},
   "outputs": [],
   "source": [
    "Map = geemap.Map()\n",
    "\n",
    "Map.add_basemap(\"SATELLITE\")\n",
    "\n",
    "# Viz = {'min': 0, 'max': 5000, 'palette': [    'FFFFFF', 'CE7E45', 'DF923D', 'F1B555', 'FCD163', '99B718', '74A901',\n",
    "#                                          '66A000', '529400', '3E8601', '207401', '056201', '004C00', '023B01',\n",
    "#                                          '012E01', '011D01', '011301']}\n",
    "\n",
    "Map.addLayer(extractor.img.select(['B4','B3','B2']), {}, \"img1\")\n",
    "\n",
    "Map.centerObject(extractor.fc)\n",
    "Map"
   ]
  }
 ],
 "metadata": {
  "kernelspec": {
   "display_name": ".venv",
   "language": "python",
   "name": "python3"
  },
  "language_info": {
   "codemirror_mode": {
    "name": "ipython",
    "version": 3
   },
   "file_extension": ".py",
   "mimetype": "text/x-python",
   "name": "python",
   "nbconvert_exporter": "python",
   "pygments_lexer": "ipython3",
   "version": "3.12.1"
  }
 },
 "nbformat": 4,
 "nbformat_minor": 2
}
