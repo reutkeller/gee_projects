{
 "cells": [
  {
   "cell_type": "code",
   "execution_count": 10,
   "metadata": {},
   "outputs": [],
   "source": [
    "#|default_exp img_sen2"
   ]
  },
  {
   "cell_type": "markdown",
   "metadata": {},
   "source": [
    "# Sentinel 2"
   ]
  },
  {
   "cell_type": "code",
   "execution_count": 11,
   "metadata": {},
   "outputs": [],
   "source": [
    "#|hide\n",
    "from nbdev.showdoc import *"
   ]
  },
  {
   "cell_type": "code",
   "execution_count": 12,
   "metadata": {},
   "outputs": [],
   "source": [
    "#|hide\n",
    "#|export\n",
    "\n",
    "import geopandas as gpd\n",
    "import seaborn as sns\n",
    "from shapely.geometry import Point\n",
    "import json\n",
    "import ee\n",
    "import geemap\n",
    "from datetime import datetime\n",
    "\n",
    "ee.Authenticate()\n",
    "ee.Initialize(project='ee-reutkeller')\n",
    "\n",
    "from gee_projects import util_func as utils\n",
    "from gee_projects import const_vars as const\n",
    "from gee_projects import mask_s2 as mask_s2"
   ]
  },
  {
   "cell_type": "markdown",
   "metadata": {},
   "source": [
    "sentinel-2 class"
   ]
  },
  {
   "cell_type": "code",
   "execution_count": 13,
   "metadata": {},
   "outputs": [],
   "source": [
    "#|export\n",
    "\n",
    "class access_s2_image():\n",
    "  \n",
    "  def __init__(self,\n",
    "               path_to_geometry : str , # path to geometry file, can be .shp or .gpkg . example : r\"D:\\git\\gee_maps\\nbs\\geometry\\test_bbox.gpkg\"\n",
    "               crs : str , #coordinate reference system to work with\n",
    "               start_date : str , # Start date for searching images. , \n",
    "               end_date : str , # End date for searching images.\n",
    "               ):\n",
    "    \n",
    "    self.crs = crs\n",
    "    self.fc = utils.gdf_to_featureCollection(\n",
    "      utils.read_gdf(geometry_path=path_to_geometry,crs=self.crs))\n",
    "    self.start_date=start_date\n",
    "    self.end_date=end_date\n",
    "    \n",
    "    \n",
    "    self.fc = utils.gdf_to_featureCollection(utils.read_gdf\n",
    "                                        (geometry_path=path_to_geometry,crs=self.crs))\n",
    "    \n",
    "    #pre process s2\n",
    "    s2_sr_cld_col_eval = mask_s2.get_s2_sr_cld_col(self.fc, self.start_date, self.end_date)\n",
    "\n",
    "    self.s2_sr = (s2_sr_cld_col_eval.map(mask_s2.add_cld_shdw_mask)\n",
    "             .map(mask_s2.apply_cld_shdw_mask))\n",
    "\n",
    "    #get list of available dates of the image collection\n",
    "\n",
    "    self.available_dates = utils.list_dates(self.s2_sr)\n",
    "    \n",
    "\n",
    "    \n",
    "\n",
    "    "
   ]
  },
  {
   "cell_type": "code",
   "execution_count": 14,
   "metadata": {},
   "outputs": [
    {
     "ename": "AttributeError",
     "evalue": "module 'gee_projects.util_func' has no attribute 'list_dates'",
     "output_type": "error",
     "traceback": [
      "\u001b[1;31m---------------------------------------------------------------------------\u001b[0m",
      "\u001b[1;31mAttributeError\u001b[0m                            Traceback (most recent call last)",
      "Cell \u001b[1;32mIn[14], line 1\u001b[0m\n\u001b[1;32m----> 1\u001b[0m extractor \u001b[38;5;241m=\u001b[39m \u001b[43maccess_s2_image\u001b[49m\u001b[43m(\u001b[49m\u001b[43mpath_to_geometry\u001b[49m\u001b[38;5;241;43m=\u001b[39;49m\u001b[38;5;124;43mr\u001b[39;49m\u001b[38;5;124;43m\"\u001b[39;49m\u001b[38;5;124;43mD:\u001b[39;49m\u001b[38;5;124;43m\\\u001b[39;49m\u001b[38;5;124;43mgit\u001b[39;49m\u001b[38;5;124;43m\\\u001b[39;49m\u001b[38;5;124;43mgee_maps\u001b[39;49m\u001b[38;5;124;43m\\\u001b[39;49m\u001b[38;5;124;43mnbs\u001b[39;49m\u001b[38;5;124;43m\\\u001b[39;49m\u001b[38;5;124;43mgeometry\u001b[39;49m\u001b[38;5;124;43m\\\u001b[39;49m\u001b[38;5;124;43mtest_bbox.gpkg\u001b[39;49m\u001b[38;5;124;43m\"\u001b[39;49m\u001b[43m,\u001b[49m\u001b[43m \u001b[49m\n\u001b[0;32m      2\u001b[0m \u001b[43m                            \u001b[49m\u001b[43mcrs\u001b[49m\u001b[43m \u001b[49m\u001b[38;5;241;43m=\u001b[39;49m\u001b[43m \u001b[49m\u001b[38;5;124;43m\"\u001b[39;49m\u001b[38;5;124;43m4326\u001b[39;49m\u001b[38;5;124;43m\"\u001b[39;49m\u001b[43m,\u001b[49m\n\u001b[0;32m      3\u001b[0m \u001b[43m                            \u001b[49m\u001b[43mstart_date\u001b[49m\u001b[43m \u001b[49m\u001b[38;5;241;43m=\u001b[39;49m\u001b[43m \u001b[49m\u001b[38;5;124;43m'\u001b[39;49m\u001b[38;5;124;43m2023-05-06\u001b[39;49m\u001b[38;5;124;43m'\u001b[39;49m\u001b[43m,\u001b[49m\n\u001b[0;32m      4\u001b[0m \u001b[43m                            \u001b[49m\u001b[43mend_date\u001b[49m\u001b[43m \u001b[49m\u001b[38;5;241;43m=\u001b[39;49m\u001b[43m \u001b[49m\u001b[38;5;124;43m'\u001b[39;49m\u001b[38;5;124;43m2023-10-08\u001b[39;49m\u001b[38;5;124;43m'\u001b[39;49m\u001b[43m)\u001b[49m\n\u001b[0;32m      6\u001b[0m coll\u001b[38;5;241m=\u001b[39m extractor\u001b[38;5;241m.\u001b[39ms2_sr\n\u001b[0;32m      7\u001b[0m test\u001b[38;5;241m=\u001b[39mextractor\u001b[38;5;241m.\u001b[39mavailable_dates\n",
      "Cell \u001b[1;32mIn[13], line 30\u001b[0m, in \u001b[0;36maccess_s2_image.__init__\u001b[1;34m(self, path_to_geometry, crs, start_date, end_date)\u001b[0m\n\u001b[0;32m     25\u001b[0m \u001b[38;5;28mself\u001b[39m\u001b[38;5;241m.\u001b[39ms2_sr \u001b[38;5;241m=\u001b[39m (s2_sr_cld_col_eval\u001b[38;5;241m.\u001b[39mmap(mask_s2\u001b[38;5;241m.\u001b[39madd_cld_shdw_mask)\n\u001b[0;32m     26\u001b[0m          \u001b[38;5;241m.\u001b[39mmap(mask_s2\u001b[38;5;241m.\u001b[39mapply_cld_shdw_mask))\n\u001b[0;32m     28\u001b[0m \u001b[38;5;66;03m#get list of available dates of the image collection\u001b[39;00m\n\u001b[1;32m---> 30\u001b[0m \u001b[38;5;28mself\u001b[39m\u001b[38;5;241m.\u001b[39mavailable_dates \u001b[38;5;241m=\u001b[39m \u001b[43mutils\u001b[49m\u001b[38;5;241;43m.\u001b[39;49m\u001b[43mlist_dates\u001b[49m(\u001b[38;5;28mself\u001b[39m\u001b[38;5;241m.\u001b[39ms2_sr)\n",
      "\u001b[1;31mAttributeError\u001b[0m: module 'gee_projects.util_func' has no attribute 'list_dates'"
     ]
    }
   ],
   "source": [
    "extractor = access_s2_image(path_to_geometry=r\"D:\\git\\gee_maps\\nbs\\geometry\\test_bbox.gpkg\", \n",
    "                            crs = \"4326\",\n",
    "                            start_date = '2023-05-06',\n",
    "                            end_date = '2023-10-08')\n",
    "\n",
    "coll= extractor.s2_sr\n",
    "test=extractor.available_dates\n",
    "test"
   ]
  },
  {
   "cell_type": "code",
   "execution_count": null,
   "metadata": {},
   "outputs": [],
   "source": []
  },
  {
   "cell_type": "code",
   "execution_count": null,
   "metadata": {},
   "outputs": [],
   "source": [
    "def list_dates(img_coll):\n",
    "  # Function to extract dates from image collection\n",
    "  def extract_dates(img):\n",
    "      date = ee.Date(img.get('system:time_start')).format('YYYY-MM-dd')\n",
    "      return ee.Feature(None, {'date': date})\n",
    "\n",
    "  # Map the function over the image collection\n",
    "  dates_list = coll.map(extract_dates).aggregate_array('date').getInfo()\n",
    "  print(dates_list)"
   ]
  },
  {
   "cell_type": "code",
   "execution_count": null,
   "metadata": {},
   "outputs": [],
   "source": [
    "# Function to extract dates from image collection\n",
    "def extract_dates(img):\n",
    "    date = ee.Date(img.get('system:time_start')).format('YYYY-MM-dd')\n",
    "    return ee.Feature(None, {'date': date})\n",
    "\n",
    "# Map the function over the image collection\n",
    "dates_list = coll.map(extract_dates).aggregate_array('date').getInfo()\n",
    "print(dates_list)"
   ]
  },
  {
   "cell_type": "code",
   "execution_count": null,
   "metadata": {},
   "outputs": [],
   "source": [
    "def find_closest_date(user_date, date_list):\n",
    "    # Convert user-provided date string to datetime object\n",
    "    user_datetime = datetime.strptime(user_date, '%Y-%m-%d')\n",
    "\n",
    "    # Convert the list of date strings to datetime objects\n",
    "    date_objects = [datetime.strptime(date, '%Y-%m-%d') for date in date_list]\n",
    "\n",
    "    # Find the closest date in the list\n",
    "    closest_date = min(date_objects, key=lambda date: abs(date - user_datetime))\n",
    "\n",
    "    # Convert the closest date back to string format\n",
    "    closest_date_str = closest_date.strftime('%Y-%m-%d')\n",
    "\n",
    "    return closest_date_str"
   ]
  },
  {
   "cell_type": "code",
   "execution_count": null,
   "metadata": {},
   "outputs": [],
   "source": [
    "find_closest_date('2023-10-19', dates_list)"
   ]
  },
  {
   "cell_type": "code",
   "execution_count": null,
   "metadata": {},
   "outputs": [],
   "source": []
  },
  {
   "cell_type": "code",
   "execution_count": null,
   "metadata": {},
   "outputs": [],
   "source": [
    "Map = geemap.Map()\n",
    "\n",
    "Map.add_basemap(\"SATELLITE\")\n",
    "\n",
    "# Viz = {'min': 0, 'max': 5000, 'palette': [    'FFFFFF', 'CE7E45', 'DF923D', 'F1B555', 'FCD163', '99B718', '74A901',\n",
    "#                                          '66A000', '529400', '3E8601', '207401', '056201', '004C00', '023B01',\n",
    "#                                          '012E01', '011D01', '011301']}\n",
    "\n",
    "Map.addLayer(coll.first().select(['B4','B3','B2']), {}, \"img1\")\n",
    "\n",
    "Map.centerObject(extractor.fc)\n",
    "Map"
   ]
  },
  {
   "cell_type": "code",
   "execution_count": null,
   "metadata": {},
   "outputs": [],
   "source": [
    "dates_list"
   ]
  },
  {
   "cell_type": "code",
   "execution_count": null,
   "metadata": {},
   "outputs": [],
   "source": []
  }
 ],
 "metadata": {
  "kernelspec": {
   "display_name": ".venv",
   "language": "python",
   "name": "python3"
  },
  "language_info": {
   "codemirror_mode": {
    "name": "ipython",
    "version": 3
   },
   "file_extension": ".py",
   "mimetype": "text/x-python",
   "name": "python",
   "nbconvert_exporter": "python",
   "pygments_lexer": "ipython3",
   "version": "3.12.1"
  }
 },
 "nbformat": 4,
 "nbformat_minor": 2
}
