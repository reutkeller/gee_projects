{
 "cells": [
  {
   "cell_type": "code",
   "execution_count": 1,
   "metadata": {},
   "outputs": [],
   "source": [
    "#|default_exp img_sen2"
   ]
  },
  {
   "cell_type": "markdown",
   "metadata": {},
   "source": [
    "# Sentinel 2"
   ]
  },
  {
   "cell_type": "code",
   "execution_count": 2,
   "metadata": {},
   "outputs": [],
   "source": [
    "#|hide\n",
    "from nbdev.showdoc import *"
   ]
  },
  {
   "cell_type": "code",
   "execution_count": 3,
   "metadata": {},
   "outputs": [],
   "source": [
    "#|hide\n",
    "#|export\n",
    "\n",
    "import geopandas as gpd\n",
    "import seaborn as sns\n",
    "from shapely.geometry import Point\n",
    "import json\n",
    "import ee\n",
    "import geemap\n",
    "from datetime import datetime\n",
    "\n",
    "ee.Authenticate()\n",
    "ee.Initialize(project='ee-reutkeller')\n",
    "\n",
    "from gee_projects import util_func as utils\n",
    "from gee_projects import const_vars as const\n",
    "from gee_projects import mask_s2 as mask_s2"
   ]
  },
  {
   "cell_type": "markdown",
   "metadata": {},
   "source": [
    "sentinel-2 class"
   ]
  },
  {
   "cell_type": "code",
   "execution_count": 16,
   "metadata": {},
   "outputs": [],
   "source": [
    "#|export\n",
    "\n",
    "class access_s2_image():\n",
    "  \n",
    "  def __init__(self,\n",
    "               path_to_geometry : str , # path to geometry file, can be .shp or .gpkg . example : r\"D:\\git\\gee_maps\\nbs\\geometry\\test_bbox.gpkg\"\n",
    "               crs : str , #coordinate reference system to work with\n",
    "               start_date : str , # Start date for searching images. , \n",
    "               end_date : str , # End date for searching images.\n",
    "               user_date : str , # The user-provided date of interest; the script accesses the image with the closest available date to the provided date\n",
    "               ):\n",
    "    \n",
    "    self.crs = crs\n",
    "    self.fc = utils.gdf_to_featureCollection(\n",
    "      utils.read_gdf(geometry_path=path_to_geometry,crs=self.crs))\n",
    "    self.start_date=start_date\n",
    "    self.end_date=end_date\n",
    "    self.user_date = user_date\n",
    "    \n",
    "    \n",
    "    self.fc = utils.gdf_to_featureCollection(utils.read_gdf\n",
    "                                        (geometry_path=path_to_geometry,crs=self.crs))\n",
    "    \n",
    "    #pre process s2\n",
    "    s2_sr_cld_col_eval = mask_s2.get_s2_sr_cld_col(self.fc, self.start_date, self.end_date)\n",
    "\n",
    "    self.s2_sr = (s2_sr_cld_col_eval.map(mask_s2.add_cld_shdw_mask)\n",
    "             .map(mask_s2.apply_cld_shdw_mask))\n",
    "\n",
    "    #get list of available dates of the image collection\n",
    "\n",
    "    self.available_dates = utils.list_dates(self.s2_sr)\n",
    "    self.closest_date = utils.find_closest_date(date_list = self.available_dates,\n",
    "                                                user_date=self.user_date)\n",
    "    \n",
    "    #filter image collection to get the image from the closest date :\n",
    "    print(f'Requested date: {self.user_date}\\n' \n",
    "          f'The nearest date available: {self.closest_date}')\n",
    "    self.img = self.s2_sr.filterDate(self.closest_date, self.closest_date).mosaic().clip(self.fc)\n"
   ]
  },
  {
   "cell_type": "code",
   "execution_count": 17,
   "metadata": {},
   "outputs": [
    {
     "name": "stdout",
     "output_type": "stream",
     "text": [
      "Requested date: 2023-10-06\n",
      "The nearest date available: 2023-10-07\n"
     ]
    },
    {
     "data": {
      "text/plain": [
       "<ee.image.Image at 0x196f78ec410>"
      ]
     },
     "execution_count": 17,
     "metadata": {},
     "output_type": "execute_result"
    }
   ],
   "source": [
    "extractor = access_s2_image(path_to_geometry=r\"D:\\git\\gee_maps\\nbs\\geometry\\test_bbox.gpkg\", \n",
    "                            crs = \"4326\",\n",
    "                            start_date = '2023-05-06',\n",
    "                            end_date = '2023-10-08',\n",
    "                            user_date = '2023-10-06')\n",
    "\n",
    "extractor.img"
   ]
  },
  {
   "cell_type": "code",
   "execution_count": null,
   "metadata": {},
   "outputs": [],
   "source": [
    "find_closest_date(date_list = test,user_date='2023-10-06')"
   ]
  },
  {
   "cell_type": "code",
   "execution_count": null,
   "metadata": {},
   "outputs": [],
   "source": [
    "test=['2023-05-10', '2023-05-10', '2023-05-15', '2023-05-15', '2023-05-20', '2023-05-20', '2023-05-25', '2023-05-25', '2023-05-30', '2023-05-30', '2023-06-04', '2023-06-04', '2023-06-14', '2023-06-14', '2023-06-19', '2023-06-19', '2023-06-24', '2023-06-24', '2023-06-29', '2023-06-29', '2023-07-04', '2023-07-04', '2023-07-09', '2023-07-09', '2023-07-14', '2023-07-14', '2023-07-19', '2023-07-19', '2023-07-24', '2023-07-24', '2023-07-29', '2023-07-29', '2023-08-03', '2023-08-03', '2023-08-08', '2023-08-08', '2023-08-13', '2023-08-13', '2023-08-18', '2023-08-18', '2023-08-23', '2023-08-23', '2023-08-28', '2023-08-28', '2023-09-02', '2023-09-02', '2023-09-07', '2023-09-07', '2023-09-12', '2023-09-12', '2023-09-17', '2023-09-17', '2023-09-22', '2023-09-22', '2023-09-27', '2023-09-27', '2023-10-07', '2023-10-07']\n",
    "\n"
   ]
  },
  {
   "cell_type": "code",
   "execution_count": null,
   "metadata": {},
   "outputs": [],
   "source": []
  },
  {
   "cell_type": "code",
   "execution_count": null,
   "metadata": {},
   "outputs": [],
   "source": []
  },
  {
   "cell_type": "code",
   "execution_count": null,
   "metadata": {},
   "outputs": [],
   "source": []
  },
  {
   "cell_type": "code",
   "execution_count": null,
   "metadata": {},
   "outputs": [],
   "source": []
  },
  {
   "cell_type": "code",
   "execution_count": null,
   "metadata": {},
   "outputs": [],
   "source": [
    "Map = geemap.Map()\n",
    "\n",
    "Map.add_basemap(\"SATELLITE\")\n",
    "\n",
    "# Viz = {'min': 0, 'max': 5000, 'palette': [    'FFFFFF', 'CE7E45', 'DF923D', 'F1B555', 'FCD163', '99B718', '74A901',\n",
    "#                                          '66A000', '529400', '3E8601', '207401', '056201', '004C00', '023B01',\n",
    "#                                          '012E01', '011D01', '011301']}\n",
    "\n",
    "Map.addLayer(coll.first().select(['B4','B3','B2']), {}, \"img1\")\n",
    "\n",
    "Map.centerObject(extractor.fc)\n",
    "Map"
   ]
  },
  {
   "cell_type": "code",
   "execution_count": null,
   "metadata": {},
   "outputs": [],
   "source": []
  }
 ],
 "metadata": {
  "kernelspec": {
   "display_name": ".venv",
   "language": "python",
   "name": "python3"
  },
  "language_info": {
   "codemirror_mode": {
    "name": "ipython",
    "version": 3
   },
   "file_extension": ".py",
   "mimetype": "text/x-python",
   "name": "python",
   "nbconvert_exporter": "python",
   "pygments_lexer": "ipython3",
   "version": "3.12.1"
  }
 },
 "nbformat": 4,
 "nbformat_minor": 2
}
