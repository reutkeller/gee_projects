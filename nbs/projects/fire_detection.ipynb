{
 "cells": [
  {
   "cell_type": "code",
   "execution_count": 1,
   "metadata": {},
   "outputs": [],
   "source": [
    "#|default_exp fire_detection"
   ]
  },
  {
   "cell_type": "markdown",
   "metadata": {},
   "source": [
    "# Fire detection"
   ]
  },
  {
   "cell_type": "code",
   "execution_count": 2,
   "metadata": {},
   "outputs": [],
   "source": [
    "#|hide\n",
    "from nbdev.showdoc import *"
   ]
  },
  {
   "cell_type": "code",
   "execution_count": 3,
   "metadata": {},
   "outputs": [],
   "source": [
    "#|hide\n",
    "#|export\n",
    "\n",
    "import geopandas as gpd\n",
    "import ee\n",
    "\n",
    "#|hide\n",
    "#|export\n",
    "\n",
    "import geopandas as gpd\n",
    "import seaborn as sns\n",
    "from shapely.geometry import Point\n",
    "import json\n",
    "import ee\n",
    "import geemap\n",
    "from datetime import datetime\n",
    "\n",
    "ee.Authenticate()\n",
    "ee.Initialize(project='ee-reutkeller')\n",
    "\n",
    "from gee_projects import util_func as utils\n",
    "from gee_projects import const_vars as const\n",
    "from gee_projects import mask_s2 as mask_s2\n",
    "from gee_projects import img_sen2 as img_sen2"
   ]
  },
  {
   "cell_type": "code",
   "execution_count": 4,
   "metadata": {},
   "outputs": [
    {
     "name": "stdout",
     "output_type": "stream",
     "text": [
      "Requested date: 2023-10-07\n",
      "The nearest date available: 2023-10-07\n"
     ]
    }
   ],
   "source": [
    "# access image using the img_sen2 class\n",
    "extractor = img_sen2.access_s2_image(path_to_geometry=r\"D:\\git\\gee_maps\\nbs\\geometry\\test_bbox.gpkg\", \n",
    "                            crs = \"4326\",\n",
    "                            start_date = '2023-10-06',\n",
    "                            end_date = '2023-10-08',\n",
    "                            one_day_image = True,\n",
    "                            user_date = '2023-10-07')\n",
    "\n",
    "img=extractor.img"
   ]
  },
  {
   "cell_type": "markdown",
   "metadata": {},
   "source": [
    "Calculate indices"
   ]
  },
  {
   "cell_type": "code",
   "execution_count": 5,
   "metadata": {},
   "outputs": [],
   "source": [
    "def BAI(img):\n",
    "    bai_img=img.expression(\n",
    "        '(1-((B6*B7*B8A)/B4)**0.5)*((B12-B8A)/((B12+B8A)**0.5)+1)', {\n",
    "                'B6': img.select('B6'),\n",
    "                'B7': img.select('B7'),\n",
    "                'B8A': img.select('B8A'),\n",
    "                'B4': img.select('B4'),\n",
    "                'B12': img.select('B12')})\n",
    "\n",
    "    return bai_img"
   ]
  },
  {
   "cell_type": "code",
   "execution_count": 6,
   "metadata": {},
   "outputs": [
    {
     "data": {
      "text/plain": [
       "['BAI']"
      ]
     },
     "execution_count": 6,
     "metadata": {},
     "output_type": "execute_result"
    }
   ],
   "source": [
    "img_BAI = BAI(img).rename('BAI')\n",
    "img_BAI.bandNames().getInfo()"
   ]
  },
  {
   "cell_type": "code",
   "execution_count": 9,
   "metadata": {},
   "outputs": [
    {
     "data": {
      "application/vnd.jupyter.widget-view+json": {
       "model_id": "644fc64a851a46e288e235a26d012a79",
       "version_major": 2,
       "version_minor": 0
      },
      "text/plain": [
       "Map(center=[20, 0], controls=(WidgetControl(options=['position', 'transparent_bg'], widget=HBox(children=(Togg…"
      ]
     },
     "metadata": {},
     "output_type": "display_data"
    }
   ],
   "source": [
    "Map = geemap.Map()\n",
    "\n",
    "# Visualization parameters\n",
    "visualization_bai = {\n",
    "    'bands': ['BAI'],\n",
    "    'min': -1,\n",
    "    'max': 7,\n",
    "    'opacity': 0.5,\n",
    "    'palette': [\n",
    "      '477eff','2872ff','2414ff','f5ff68','fffa28',\n",
    "      'ffe30a','ffaf18','ff6a20','ff0402','ea2aff'\n",
    "    ]\n",
    "}\n",
    "\n",
    "visualization_rgb = {'bands': ['B4','B3','B2'],\n",
    "    'min': 0,\n",
    "    'max': 1,\n",
    "    'opacity': 1,\n",
    "}\n",
    "\n",
    "Map.add_basemap(\"SATELLITE\")\n",
    "\n",
    "Map.addLayer(extractor.img.select(['B4','B3','B2']), visualization_rgb, \"img1\")\n",
    "Map.addLayer(img_BAI,visualization_bai,'BAI')\n",
    "Map.centerObject(extractor.fc)\n",
    "Map"
   ]
  },
  {
   "cell_type": "code",
   "execution_count": null,
   "metadata": {},
   "outputs": [],
   "source": []
  },
  {
   "cell_type": "code",
   "execution_count": null,
   "metadata": {},
   "outputs": [],
   "source": []
  }
 ],
 "metadata": {
  "kernelspec": {
   "display_name": ".venv",
   "language": "python",
   "name": "python3"
  },
  "language_info": {
   "codemirror_mode": {
    "name": "ipython",
    "version": 3
   },
   "file_extension": ".py",
   "mimetype": "text/x-python",
   "name": "python",
   "nbconvert_exporter": "python",
   "pygments_lexer": "ipython3",
   "version": "3.12.1"
  }
 },
 "nbformat": 4,
 "nbformat_minor": 2
}
