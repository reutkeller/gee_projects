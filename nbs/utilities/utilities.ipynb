{
 "cells": [
  {
   "cell_type": "code",
   "execution_count": 1,
   "metadata": {},
   "outputs": [],
   "source": [
    "#|default_exp util_func"
   ]
  },
  {
   "cell_type": "markdown",
   "metadata": {},
   "source": [
    "# Utilities"
   ]
  },
  {
   "cell_type": "code",
   "execution_count": 2,
   "metadata": {},
   "outputs": [],
   "source": [
    "#|hide\n",
    "from nbdev.showdoc import *"
   ]
  },
  {
   "cell_type": "code",
   "execution_count": 2,
   "metadata": {},
   "outputs": [],
   "source": [
    "#|hide\n",
    "#|export\n",
    "\n",
    "import geopandas as gpd\n",
    "import seaborn as sns\n",
    "from shapely.geometry import Point\n",
    "import json\n",
    "import ee\n",
    "from datetime import datetime\n",
    "\n",
    "ee.Authenticate()\n",
    "ee.Initialize(project='ee-reutkeller')\n",
    "\n",
    "from gee_projects import const_vars as const"
   ]
  },
  {
   "cell_type": "markdown",
   "metadata": {},
   "source": [
    "Read geodataframe"
   ]
  },
  {
   "cell_type": "code",
   "execution_count": 4,
   "metadata": {},
   "outputs": [],
   "source": [
    "#|export\n",
    "\n",
    "def read_gdf(geometry_path : str , #path to geometry file (.shp /.gpkg). Path string should be written with r, for example r\"path/to/geom/geom.gpkg\"\n",
    "                  crs : str , #crs code , for example '4326'. the coordinate reference system code to be used\n",
    "                  ):\n",
    "  \n",
    "  gdf = gpd.read_file(geometry_path)\n",
    "  gdf = gdf.set_crs(crs)\n",
    "\n",
    "  return gdf"
   ]
  },
  {
   "cell_type": "code",
   "execution_count": 5,
   "metadata": {},
   "outputs": [],
   "source": [
    "gdf = read_gdf(geometry_path=r\"D:\\git\\gee_maps\\nbs\\geometry\\test_bbox.gpkg\",\n",
    "         crs='4326')"
   ]
  },
  {
   "cell_type": "markdown",
   "metadata": {},
   "source": [
    "GeoDataFrame to FeatureCollection"
   ]
  },
  {
   "cell_type": "code",
   "execution_count": 6,
   "metadata": {},
   "outputs": [],
   "source": [
    "#|export\n",
    "\n",
    "def gdf_to_featureCollection(\n",
    "  gdf : gpd.GeoDataFrame , # geopandas geodataframe data\n",
    "  ):\n",
    "  ''' convert geodataframe to ee FeatureCollection type, based on this post https://gis.stackexchange.com/questions/439924/convert-local-file-shp-csv-into-earth-engine-ee-object'''\n",
    "  \n",
    "  # convert to json\n",
    "  geo_json = gdf.to_json()\n",
    "\n",
    "  #convert to FeatureCollection\n",
    "  featureCollection = ee.FeatureCollection(json.loads(geo_json))\n",
    "\n",
    "\n",
    "  return featureCollection\n",
    "  "
   ]
  },
  {
   "cell_type": "code",
   "execution_count": 8,
   "metadata": {},
   "outputs": [
    {
     "data": {
      "text/plain": [
       "{'type': 'FeatureCollection',\n",
       " 'columns': {'id': 'Integer', 'name': 'Integer', 'system:index': 'String'},\n",
       " 'features': [{'type': 'Feature',\n",
       "   'geometry': {'type': 'Polygon',\n",
       "    'coordinates': [[[34.1987406954507, 31.596126146017752],\n",
       "      [34.19186977768542, 31.205628986357716],\n",
       "      [34.60526999656305, 31.19646776267068],\n",
       "      [34.63046336170241, 31.61101313450919],\n",
       "      [34.1987406954507, 31.596126146017752]]]},\n",
       "   'id': '0',\n",
       "   'properties': {'id': 1, 'name': 1}}]}"
      ]
     },
     "execution_count": 8,
     "metadata": {},
     "output_type": "execute_result"
    }
   ],
   "source": [
    "fc = gdf_to_featureCollection(gdf)\n",
    "fc.getInfo()"
   ]
  },
  {
   "cell_type": "markdown",
   "metadata": {},
   "source": [
    "Dates functions"
   ]
  },
  {
   "cell_type": "code",
   "execution_count": null,
   "metadata": {},
   "outputs": [],
   "source": [
    "#|export\n",
    "def extract_dates_from_img_coll(img):\n",
    "    date = ee.Date(img.get(const.system_time_start_str)).format(const.date_format_1)\n",
    "    return ee.Feature(None, {'date': date})"
   ]
  },
  {
   "cell_type": "code",
   "execution_count": null,
   "metadata": {},
   "outputs": [],
   "source": [
    "#|export\n",
    "def find_closest_date(user_date, date_list):\n",
    "    # Convert user-provided date string to datetime object\n",
    "    user_datetime = datetime.strptime(user_date, '%Y-%m-%d')\n",
    "\n",
    "    # Convert the list of date strings to datetime objects\n",
    "    date_objects = [datetime.strptime(date, '%Y-%m-%d') for date in date_list]\n",
    "\n",
    "    # Find the closest date in the list\n",
    "    closest_date = min(date_objects, key=lambda date: abs(date - user_datetime))\n",
    "\n",
    "    # Convert the closest date back to string format\n",
    "    closest_date_str = closest_date.strftime('%Y-%m-%d')\n",
    "\n",
    "    return closest_date_str"
   ]
  }
 ],
 "metadata": {
  "kernelspec": {
   "display_name": ".venv",
   "language": "python",
   "name": "python3"
  },
  "language_info": {
   "codemirror_mode": {
    "name": "ipython",
    "version": 3
   },
   "file_extension": ".py",
   "mimetype": "text/x-python",
   "name": "python",
   "nbconvert_exporter": "python",
   "pygments_lexer": "ipython3",
   "version": "3.12.1"
  }
 },
 "nbformat": 4,
 "nbformat_minor": 2
}
