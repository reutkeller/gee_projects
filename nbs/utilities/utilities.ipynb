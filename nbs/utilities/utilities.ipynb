{
 "cells": [
  {
   "cell_type": "code",
   "execution_count": 1,
   "metadata": {},
   "outputs": [],
   "source": [
    "#|default_exp util_func"
   ]
  },
  {
   "cell_type": "markdown",
   "metadata": {},
   "source": [
    "# Utilities"
   ]
  },
  {
   "cell_type": "code",
   "execution_count": 2,
   "metadata": {},
   "outputs": [],
   "source": [
    "#|hide\n",
    "from nbdev.showdoc import *"
   ]
  },
  {
   "cell_type": "code",
   "execution_count": 3,
   "metadata": {},
   "outputs": [],
   "source": [
    "#|hide\n",
    "#|export\n",
    "\n",
    "import geopandas as gpd\n",
    "import seaborn as sns\n",
    "from shapely.geometry import Point\n",
    "import json\n",
    "import ee\n",
    "\n",
    "ee.Authenticate()\n",
    "ee.Initialize(project='ee-reutkeller')\n",
    "\n",
    "from gee_projects import const_vars as const_vars"
   ]
  },
  {
   "cell_type": "markdown",
   "metadata": {},
   "source": [
    "Read geodataframe"
   ]
  },
  {
   "cell_type": "code",
   "execution_count": 4,
   "metadata": {},
   "outputs": [],
   "source": [
    "#|export\n",
    "\n",
    "def read_gdf(geometry_path : str , #path to geometry file (.shp /.gpkg). Path string should be written with r, for example r\"path/to/geom/geom.gpkg\"\n",
    "                  crs : str , #crs code , for example '4326'. the coordinate reference system code to be used\n",
    "                  ):\n",
    "  \n",
    "  gdf = gpd.read_file(geometry_path)\n",
    "  gdf = gdf.set_crs(crs)\n",
    "\n",
    "  return gdf"
   ]
  },
  {
   "cell_type": "code",
   "execution_count": 5,
   "metadata": {},
   "outputs": [],
   "source": [
    "gdf = read_gdf(geometry_path=r\"D:\\git\\gee_maps\\nbs\\geometry\\test_bbox.gpkg\",\n",
    "         crs='4326')"
   ]
  },
  {
   "cell_type": "markdown",
   "metadata": {},
   "source": [
    "GeoDataFrame to FeatureCollection"
   ]
  },
  {
   "cell_type": "code",
   "execution_count": 6,
   "metadata": {},
   "outputs": [],
   "source": [
    "#|export\n",
    "\n",
    "def gdf_to_featureCollection(\n",
    "  gdf : gpd.GeoDataFrame , # geopandas geodataframe data\n",
    "  ):\n",
    "  ''' convert geodataframe to ee FeatureCollection type, based on this post https://gis.stackexchange.com/questions/439924/convert-local-file-shp-csv-into-earth-engine-ee-object'''\n",
    "  \n",
    "  # convert to json\n",
    "  geo_json = gdf.to_json()\n",
    "\n",
    "  #convert to FeatureCollection\n",
    "  featureCollection = ee.FeatureCollection(json.loads(geo_json))\n",
    "\n",
    "\n",
    "  return featureCollection\n",
    "  "
   ]
  },
  {
   "cell_type": "code",
   "execution_count": 7,
   "metadata": {},
   "outputs": [
    {
     "data": {
      "text/plain": [
       "<ee.featurecollection.FeatureCollection at 0x27a1fc47350>"
      ]
     },
     "execution_count": 7,
     "metadata": {},
     "output_type": "execute_result"
    }
   ],
   "source": [
    "fc = gdf_to_featureCollection(gdf)\n",
    "fc.getInfo()"
   ]
  },
  {
   "cell_type": "code",
   "execution_count": null,
   "metadata": {},
   "outputs": [],
   "source": []
  }
 ],
 "metadata": {
  "kernelspec": {
   "display_name": ".venv",
   "language": "python",
   "name": "python3"
  },
  "language_info": {
   "codemirror_mode": {
    "name": "ipython",
    "version": 3
   },
   "file_extension": ".py",
   "mimetype": "text/x-python",
   "name": "python",
   "nbconvert_exporter": "python",
   "pygments_lexer": "ipython3",
   "version": "3.12.1"
  }
 },
 "nbformat": 4,
 "nbformat_minor": 2
}
