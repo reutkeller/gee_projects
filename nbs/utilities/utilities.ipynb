{
 "cells": [
  {
   "cell_type": "code",
   "execution_count": 1,
   "metadata": {},
   "outputs": [],
   "source": [
    "#|default_exp util_func"
   ]
  },
  {
   "cell_type": "markdown",
   "metadata": {},
   "source": [
    "# Utilities"
   ]
  },
  {
   "cell_type": "code",
   "execution_count": 2,
   "metadata": {},
   "outputs": [],
   "source": [
    "#|hide\n",
    "from nbdev.showdoc import *"
   ]
  },
  {
   "cell_type": "code",
   "execution_count": 7,
   "metadata": {},
   "outputs": [],
   "source": [
    "#|hide\n",
    "#|export\n",
    "\n",
    "import geopandas as gpd\n",
    "import seaborn as sns\n",
    "from shapely.geometry import Point\n",
    "import json\n",
    "import ee\n",
    "\n",
    "ee.Authenticate()\n",
    "ee.Initialize()\n",
    "\n",
    "from gee_projects import const_vars as const_vars"
   ]
  },
  {
   "cell_type": "markdown",
   "metadata": {},
   "source": [
    "Read geodataframe"
   ]
  },
  {
   "cell_type": "code",
   "execution_count": 4,
   "metadata": {},
   "outputs": [],
   "source": [
    "#|export\n",
    "\n",
    "def read_gdf(geometry_path : str , #path to geometry file (.shp /.gpkg). Path string should be written with r, for example r\"path/to/geom/geom.gpkg\"\n",
    "                  crs : str , #crs code , for example '4326'. the coordinate reference system code to be used\n",
    "                  ):\n",
    "  \n",
    "  gdf = gpd.read_file(geometry_path)\n",
    "  gdf = gdf.set_crs(crs)\n",
    "\n",
    "  return gdf"
   ]
  },
  {
   "cell_type": "code",
   "execution_count": 6,
   "metadata": {},
   "outputs": [],
   "source": [
    "gdf = read_gdf(geometry_path=r\"D:\\git\\gee_maps\\nbs\\geometry\\test_bbox.gpkg\",\n",
    "         crs='4326')"
   ]
  },
  {
   "cell_type": "markdown",
   "metadata": {},
   "source": [
    "GeoDataFrame to FeatureCollection"
   ]
  },
  {
   "cell_type": "code",
   "execution_count": 8,
   "metadata": {},
   "outputs": [],
   "source": [
    "#|export\n",
    "\n",
    "def gdf_to_featureCollection(\n",
    "  gdf : gpd.GeoDataFrame , # geopandas geodataframe data\n",
    "  ):\n",
    "  ''' convert geodataframe to ee FeatureCollection type, based on this post https://gis.stackexchange.com/questions/439924/convert-local-file-shp-csv-into-earth-engine-ee-object'''\n",
    "  \n",
    "  # convert to json\n",
    "  geo_json = gdf.to_json()\n",
    "\n",
    "  #convert to FeatureCollection\n",
    "  featureCollection = ee.FeatureCollection(json.loads(geo_json))\n",
    "\n",
    "\n",
    "  return featureCollection\n",
    "  "
   ]
  },
  {
   "cell_type": "code",
   "execution_count": 11,
   "metadata": {},
   "outputs": [
    {
     "ename": "EEException",
     "evalue": "Earth Engine client library not initialized. Run `ee.Initialize()`",
     "output_type": "error",
     "traceback": [
      "\u001b[1;31m---------------------------------------------------------------------------\u001b[0m",
      "\u001b[1;31mEEException\u001b[0m                               Traceback (most recent call last)",
      "Cell \u001b[1;32mIn[11], line 1\u001b[0m\n\u001b[1;32m----> 1\u001b[0m fc \u001b[38;5;241m=\u001b[39m \u001b[43mgdf_to_featureCollection\u001b[49m\u001b[43m(\u001b[49m\u001b[43mgdf\u001b[49m\u001b[43m)\u001b[49m\n\u001b[0;32m      2\u001b[0m fc\n",
      "Cell \u001b[1;32mIn[8], line 12\u001b[0m, in \u001b[0;36mgdf_to_featureCollection\u001b[1;34m(gdf)\u001b[0m\n\u001b[0;32m      9\u001b[0m geo_json \u001b[38;5;241m=\u001b[39m gdf\u001b[38;5;241m.\u001b[39mto_json()\n\u001b[0;32m     11\u001b[0m \u001b[38;5;66;03m#convert to FeatureCollection\u001b[39;00m\n\u001b[1;32m---> 12\u001b[0m featureCollection \u001b[38;5;241m=\u001b[39m \u001b[43mee\u001b[49m\u001b[38;5;241;43m.\u001b[39;49m\u001b[43mFeatureCollection\u001b[49m\u001b[43m(\u001b[49m\u001b[43mjson\u001b[49m\u001b[38;5;241;43m.\u001b[39;49m\u001b[43mloads\u001b[49m\u001b[43m(\u001b[49m\u001b[43mgeo_json\u001b[49m\u001b[43m)\u001b[49m\u001b[43m)\u001b[49m\n\u001b[0;32m     15\u001b[0m \u001b[38;5;28;01mreturn\u001b[39;00m featureCollection\n",
      "File \u001b[1;32md:\\git\\gee_projects\\.venv\\Lib\\site-packages\\ee\\computedobject.py:29\u001b[0m, in \u001b[0;36mComputedObjectMetaclass.__call__\u001b[1;34m(cls, *args, **kwargs)\u001b[0m\n\u001b[0;32m     27\u001b[0m   \u001b[38;5;28;01mreturn\u001b[39;00m args[\u001b[38;5;241m0\u001b[39m]\n\u001b[0;32m     28\u001b[0m \u001b[38;5;28;01melse\u001b[39;00m:\n\u001b[1;32m---> 29\u001b[0m   \u001b[38;5;28;01mreturn\u001b[39;00m \u001b[38;5;28;43mtype\u001b[39;49m\u001b[38;5;241;43m.\u001b[39;49m\u001b[38;5;21;43m__call__\u001b[39;49m\u001b[43m(\u001b[49m\u001b[38;5;28;43mcls\u001b[39;49m\u001b[43m,\u001b[49m\u001b[43m \u001b[49m\u001b[38;5;241;43m*\u001b[39;49m\u001b[43margs\u001b[49m\u001b[43m,\u001b[49m\u001b[43m \u001b[49m\u001b[38;5;241;43m*\u001b[39;49m\u001b[38;5;241;43m*\u001b[39;49m\u001b[43mkwargs\u001b[49m\u001b[43m)\u001b[49m\n",
      "File \u001b[1;32md:\\git\\gee_projects\\.venv\\Lib\\site-packages\\ee\\_utils.py:39\u001b[0m, in \u001b[0;36maccept_opt_prefix.<locals>.opt_fixed.<locals>.wrapper\u001b[1;34m(*args, **kwargs)\u001b[0m\n\u001b[0;32m     37\u001b[0m     \u001b[38;5;28;01mif\u001b[39;00m new_key \u001b[38;5;129;01mnot\u001b[39;00m \u001b[38;5;129;01min\u001b[39;00m kwargs:\n\u001b[0;32m     38\u001b[0m       kwargs[new_key] \u001b[38;5;241m=\u001b[39m old_key_val\n\u001b[1;32m---> 39\u001b[0m \u001b[38;5;28;01mreturn\u001b[39;00m \u001b[43mfunc\u001b[49m\u001b[43m(\u001b[49m\u001b[38;5;241;43m*\u001b[39;49m\u001b[43margs\u001b[49m\u001b[43m,\u001b[49m\u001b[43m \u001b[49m\u001b[38;5;241;43m*\u001b[39;49m\u001b[38;5;241;43m*\u001b[39;49m\u001b[43mkwargs\u001b[49m\u001b[43m)\u001b[49m\n",
      "File \u001b[1;32md:\\git\\gee_projects\\.venv\\Lib\\site-packages\\ee\\featurecollection.py:60\u001b[0m, in \u001b[0;36mFeatureCollection.__init__\u001b[1;34m(self, args, column)\u001b[0m\n\u001b[0;32m     32\u001b[0m \u001b[38;5;129m@_utils\u001b[39m\u001b[38;5;241m.\u001b[39maccept_opt_prefix(\u001b[38;5;124m'\u001b[39m\u001b[38;5;124mopt_column\u001b[39m\u001b[38;5;124m'\u001b[39m)\n\u001b[0;32m     33\u001b[0m \u001b[38;5;28;01mdef\u001b[39;00m \u001b[38;5;21m__init__\u001b[39m(\n\u001b[0;32m     34\u001b[0m     \u001b[38;5;28mself\u001b[39m,\n\u001b[1;32m   (...)\u001b[0m\n\u001b[0;32m     45\u001b[0m     column: Optional[Any] \u001b[38;5;241m=\u001b[39m \u001b[38;5;28;01mNone\u001b[39;00m,\n\u001b[0;32m     46\u001b[0m ):\n\u001b[0;32m     47\u001b[0m \u001b[38;5;250m  \u001b[39m\u001b[38;5;124;03m\"\"\"Constructs a collection features.\u001b[39;00m\n\u001b[0;32m     48\u001b[0m \n\u001b[0;32m     49\u001b[0m \u001b[38;5;124;03m  Args:\u001b[39;00m\n\u001b[1;32m   (...)\u001b[0m\n\u001b[0;32m     58\u001b[0m \u001b[38;5;124;03m    EEException: if passed something other than the above.\u001b[39;00m\n\u001b[0;32m     59\u001b[0m \u001b[38;5;124;03m  \"\"\"\u001b[39;00m\n\u001b[1;32m---> 60\u001b[0m   \u001b[38;5;28;43mself\u001b[39;49m\u001b[38;5;241;43m.\u001b[39;49m\u001b[43minitialize\u001b[49m\u001b[43m(\u001b[49m\u001b[43m)\u001b[49m\n\u001b[0;32m     62\u001b[0m   \u001b[38;5;66;03m# Wrap geometries with features.\u001b[39;00m\n\u001b[0;32m     63\u001b[0m   \u001b[38;5;28;01mif\u001b[39;00m \u001b[38;5;28misinstance\u001b[39m(args, geometry\u001b[38;5;241m.\u001b[39mGeometry):\n",
      "File \u001b[1;32md:\\git\\gee_projects\\.venv\\Lib\\site-packages\\ee\\featurecollection.py:106\u001b[0m, in \u001b[0;36mFeatureCollection.initialize\u001b[1;34m(cls)\u001b[0m\n\u001b[0;32m    104\u001b[0m \u001b[38;5;250m\u001b[39m\u001b[38;5;124;03m\"\"\"Imports API functions to this class.\"\"\"\u001b[39;00m\n\u001b[0;32m    105\u001b[0m \u001b[38;5;28;01mif\u001b[39;00m \u001b[38;5;129;01mnot\u001b[39;00m \u001b[38;5;28mcls\u001b[39m\u001b[38;5;241m.\u001b[39m_initialized:\n\u001b[1;32m--> 106\u001b[0m   \u001b[38;5;28;43msuper\u001b[39;49m\u001b[43m(\u001b[49m\u001b[43m)\u001b[49m\u001b[38;5;241;43m.\u001b[39;49m\u001b[43minitialize\u001b[49m\u001b[43m(\u001b[49m\u001b[43m)\u001b[49m\n\u001b[0;32m    107\u001b[0m   apifunction\u001b[38;5;241m.\u001b[39mApiFunction\u001b[38;5;241m.\u001b[39mimportApi(\u001b[38;5;28mcls\u001b[39m, \u001b[38;5;28mcls\u001b[39m\u001b[38;5;241m.\u001b[39mname(), \u001b[38;5;28mcls\u001b[39m\u001b[38;5;241m.\u001b[39mname())\n\u001b[0;32m    108\u001b[0m   \u001b[38;5;28mcls\u001b[39m\u001b[38;5;241m.\u001b[39m_initialized \u001b[38;5;241m=\u001b[39m \u001b[38;5;28;01mTrue\u001b[39;00m\n",
      "File \u001b[1;32md:\\git\\gee_projects\\.venv\\Lib\\site-packages\\ee\\collection.py:46\u001b[0m, in \u001b[0;36mCollection.initialize\u001b[1;34m(cls)\u001b[0m\n\u001b[0;32m     44\u001b[0m \u001b[38;5;250m\u001b[39m\u001b[38;5;124;03m\"\"\"Imports API functions to this class.\"\"\"\u001b[39;00m\n\u001b[0;32m     45\u001b[0m \u001b[38;5;28;01mif\u001b[39;00m \u001b[38;5;129;01mnot\u001b[39;00m \u001b[38;5;28mcls\u001b[39m\u001b[38;5;241m.\u001b[39m_initialized:\n\u001b[1;32m---> 46\u001b[0m   \u001b[43mapifunction\u001b[49m\u001b[38;5;241;43m.\u001b[39;49m\u001b[43mApiFunction\u001b[49m\u001b[38;5;241;43m.\u001b[39;49m\u001b[43mimportApi\u001b[49m\u001b[43m(\u001b[49m\u001b[38;5;28;43mcls\u001b[39;49m\u001b[43m,\u001b[49m\u001b[43m \u001b[49m\u001b[38;5;28;43mcls\u001b[39;49m\u001b[38;5;241;43m.\u001b[39;49m\u001b[43mname\u001b[49m\u001b[43m(\u001b[49m\u001b[43m)\u001b[49m\u001b[43m,\u001b[49m\u001b[43m \u001b[49m\u001b[38;5;28;43mcls\u001b[39;49m\u001b[38;5;241;43m.\u001b[39;49m\u001b[43mname\u001b[49m\u001b[43m(\u001b[49m\u001b[43m)\u001b[49m\u001b[43m)\u001b[49m\n\u001b[0;32m     47\u001b[0m   apifunction\u001b[38;5;241m.\u001b[39mApiFunction\u001b[38;5;241m.\u001b[39mimportApi(\n\u001b[0;32m     48\u001b[0m       \u001b[38;5;28mcls\u001b[39m, \u001b[38;5;124m'\u001b[39m\u001b[38;5;124mAggregateFeatureCollection\u001b[39m\u001b[38;5;124m'\u001b[39m, \u001b[38;5;28mcls\u001b[39m\u001b[38;5;241m.\u001b[39mname(), \u001b[38;5;124m'\u001b[39m\u001b[38;5;124maggregate_\u001b[39m\u001b[38;5;124m'\u001b[39m)\n\u001b[0;32m     49\u001b[0m   \u001b[38;5;28mcls\u001b[39m\u001b[38;5;241m.\u001b[39m_initialized \u001b[38;5;241m=\u001b[39m \u001b[38;5;28;01mTrue\u001b[39;00m\n",
      "File \u001b[1;32md:\\git\\gee_projects\\.venv\\Lib\\site-packages\\ee\\_utils.py:39\u001b[0m, in \u001b[0;36maccept_opt_prefix.<locals>.opt_fixed.<locals>.wrapper\u001b[1;34m(*args, **kwargs)\u001b[0m\n\u001b[0;32m     37\u001b[0m     \u001b[38;5;28;01mif\u001b[39;00m new_key \u001b[38;5;129;01mnot\u001b[39;00m \u001b[38;5;129;01min\u001b[39;00m kwargs:\n\u001b[0;32m     38\u001b[0m       kwargs[new_key] \u001b[38;5;241m=\u001b[39m old_key_val\n\u001b[1;32m---> 39\u001b[0m \u001b[38;5;28;01mreturn\u001b[39;00m \u001b[43mfunc\u001b[49m\u001b[43m(\u001b[49m\u001b[38;5;241;43m*\u001b[39;49m\u001b[43margs\u001b[49m\u001b[43m,\u001b[49m\u001b[43m \u001b[49m\u001b[38;5;241;43m*\u001b[39;49m\u001b[38;5;241;43m*\u001b[39;49m\u001b[43mkwargs\u001b[49m\u001b[43m)\u001b[49m\n",
      "File \u001b[1;32md:\\git\\gee_projects\\.venv\\Lib\\site-packages\\ee\\apifunction.py:198\u001b[0m, in \u001b[0;36mApiFunction.importApi\u001b[1;34m(cls, target, prefix, type_name, prepend)\u001b[0m\n\u001b[0;32m    178\u001b[0m \u001b[38;5;129m@classmethod\u001b[39m\n\u001b[0;32m    179\u001b[0m \u001b[38;5;129m@_utils\u001b[39m\u001b[38;5;241m.\u001b[39maccept_opt_prefix(\u001b[38;5;124m'\u001b[39m\u001b[38;5;124mopt_prepend\u001b[39m\u001b[38;5;124m'\u001b[39m)\n\u001b[0;32m    180\u001b[0m \u001b[38;5;28;01mdef\u001b[39;00m \u001b[38;5;21mimportApi\u001b[39m(\n\u001b[1;32m   (...)\u001b[0m\n\u001b[0;32m    185\u001b[0m     prepend: Optional[\u001b[38;5;28mstr\u001b[39m] \u001b[38;5;241m=\u001b[39m \u001b[38;5;28;01mNone\u001b[39;00m,\n\u001b[0;32m    186\u001b[0m ) \u001b[38;5;241m-\u001b[39m\u001b[38;5;241m>\u001b[39m \u001b[38;5;28;01mNone\u001b[39;00m:\n\u001b[0;32m    187\u001b[0m \u001b[38;5;250m  \u001b[39m\u001b[38;5;124;03m\"\"\"Adds all API functions that begin with a given prefix to a target class.\u001b[39;00m\n\u001b[0;32m    188\u001b[0m \n\u001b[0;32m    189\u001b[0m \u001b[38;5;124;03m  Args:\u001b[39;00m\n\u001b[1;32m   (...)\u001b[0m\n\u001b[0;32m    196\u001b[0m \u001b[38;5;124;03m      functions.\u001b[39;00m\n\u001b[0;32m    197\u001b[0m \u001b[38;5;124;03m  \"\"\"\u001b[39;00m\n\u001b[1;32m--> 198\u001b[0m   \u001b[38;5;28;43mcls\u001b[39;49m\u001b[38;5;241;43m.\u001b[39;49m\u001b[43minitialize\u001b[49m\u001b[43m(\u001b[49m\u001b[43m)\u001b[49m\n\u001b[0;32m    199\u001b[0m   prepend \u001b[38;5;241m=\u001b[39m prepend \u001b[38;5;129;01mor\u001b[39;00m \u001b[38;5;124m'\u001b[39m\u001b[38;5;124m'\u001b[39m\n\u001b[0;32m    200\u001b[0m   \u001b[38;5;28;01mfor\u001b[39;00m name, api_func \u001b[38;5;129;01min\u001b[39;00m \u001b[38;5;28mcls\u001b[39m\u001b[38;5;241m.\u001b[39m_api\u001b[38;5;241m.\u001b[39mitems():\n",
      "File \u001b[1;32md:\\git\\gee_projects\\.venv\\Lib\\site-packages\\ee\\apifunction.py:162\u001b[0m, in \u001b[0;36mApiFunction.initialize\u001b[1;34m(cls)\u001b[0m\n\u001b[0;32m    160\u001b[0m \u001b[38;5;250m\u001b[39m\u001b[38;5;124;03m\"\"\"Initializes the list of signatures from the Earth Engine front-end.\"\"\"\u001b[39;00m\n\u001b[0;32m    161\u001b[0m \u001b[38;5;28;01mif\u001b[39;00m \u001b[38;5;129;01mnot\u001b[39;00m \u001b[38;5;28mcls\u001b[39m\u001b[38;5;241m.\u001b[39m_api:\n\u001b[1;32m--> 162\u001b[0m   signatures \u001b[38;5;241m=\u001b[39m \u001b[43mdata\u001b[49m\u001b[38;5;241;43m.\u001b[39;49m\u001b[43mgetAlgorithms\u001b[49m\u001b[43m(\u001b[49m\u001b[43m)\u001b[49m\n\u001b[0;32m    163\u001b[0m   api \u001b[38;5;241m=\u001b[39m {}\n\u001b[0;32m    164\u001b[0m   \u001b[38;5;28;01mfor\u001b[39;00m name, sig \u001b[38;5;129;01min\u001b[39;00m signatures\u001b[38;5;241m.\u001b[39mitems():\n\u001b[0;32m    165\u001b[0m     \u001b[38;5;66;03m# Strip type parameters.\u001b[39;00m\n",
      "File \u001b[1;32md:\\git\\gee_projects\\.venv\\Lib\\site-packages\\ee\\data.py:1443\u001b[0m, in \u001b[0;36mgetAlgorithms\u001b[1;34m()\u001b[0m\n\u001b[0;32m   1426\u001b[0m \u001b[38;5;250m\u001b[39m\u001b[38;5;124;03m\"\"\"Get the list of algorithms.\u001b[39;00m\n\u001b[0;32m   1427\u001b[0m \n\u001b[0;32m   1428\u001b[0m \u001b[38;5;124;03mReturns:\u001b[39;00m\n\u001b[1;32m   (...)\u001b[0m\n\u001b[0;32m   1439\u001b[0m \u001b[38;5;124;03m              is not specified.\u001b[39;00m\n\u001b[0;32m   1440\u001b[0m \u001b[38;5;124;03m\"\"\"\u001b[39;00m\n\u001b[0;32m   1441\u001b[0m \u001b[38;5;28;01mtry\u001b[39;00m:\n\u001b[0;32m   1442\u001b[0m   call \u001b[38;5;241m=\u001b[39m (\n\u001b[1;32m-> 1443\u001b[0m       \u001b[43m_get_cloud_projects\u001b[49m\u001b[43m(\u001b[49m\u001b[43m)\u001b[49m\n\u001b[0;32m   1444\u001b[0m       \u001b[38;5;241m.\u001b[39malgorithms()\n\u001b[0;32m   1445\u001b[0m       \u001b[38;5;241m.\u001b[39mlist(parent\u001b[38;5;241m=\u001b[39m_get_projects_path(), prettyPrint\u001b[38;5;241m=\u001b[39m\u001b[38;5;28;01mFalse\u001b[39;00m)\n\u001b[0;32m   1446\u001b[0m   )\n\u001b[0;32m   1447\u001b[0m \u001b[38;5;28;01mexcept\u001b[39;00m \u001b[38;5;167;01mTypeError\u001b[39;00m:\n\u001b[0;32m   1448\u001b[0m   call \u001b[38;5;241m=\u001b[39m (\n\u001b[0;32m   1449\u001b[0m       _get_cloud_projects()\n\u001b[0;32m   1450\u001b[0m       \u001b[38;5;241m.\u001b[39malgorithms()\n\u001b[0;32m   1451\u001b[0m       \u001b[38;5;241m.\u001b[39mlist(project\u001b[38;5;241m=\u001b[39m_get_projects_path(), prettyPrint\u001b[38;5;241m=\u001b[39m\u001b[38;5;28;01mFalse\u001b[39;00m)\n\u001b[0;32m   1452\u001b[0m   )\n",
      "File \u001b[1;32md:\\git\\gee_projects\\.venv\\Lib\\site-packages\\ee\\data.py:338\u001b[0m, in \u001b[0;36m_get_cloud_projects\u001b[1;34m()\u001b[0m\n\u001b[0;32m    336\u001b[0m \u001b[38;5;28;01mdef\u001b[39;00m \u001b[38;5;21m_get_cloud_projects\u001b[39m() \u001b[38;5;241m-\u001b[39m\u001b[38;5;241m>\u001b[39m Any:\n\u001b[0;32m    337\u001b[0m   \u001b[38;5;28;01mif\u001b[39;00m _cloud_api_resource \u001b[38;5;129;01mis\u001b[39;00m \u001b[38;5;28;01mNone\u001b[39;00m:\n\u001b[1;32m--> 338\u001b[0m     \u001b[38;5;28;01mraise\u001b[39;00m ee_exception\u001b[38;5;241m.\u001b[39mEEException(\n\u001b[0;32m    339\u001b[0m         \u001b[38;5;124m'\u001b[39m\u001b[38;5;124mEarth Engine client library not initialized. Run `ee.Initialize()`\u001b[39m\u001b[38;5;124m'\u001b[39m)\n\u001b[0;32m    340\u001b[0m   \u001b[38;5;28;01mreturn\u001b[39;00m _cloud_api_resource\u001b[38;5;241m.\u001b[39mprojects()\n",
      "\u001b[1;31mEEException\u001b[0m: Earth Engine client library not initialized. Run `ee.Initialize()`"
     ]
    }
   ],
   "source": [
    "fc = gdf_to_featureCollection(gdf)\n",
    "fc"
   ]
  },
  {
   "cell_type": "code",
   "execution_count": null,
   "metadata": {},
   "outputs": [],
   "source": []
  }
 ],
 "metadata": {
  "kernelspec": {
   "display_name": ".venv",
   "language": "python",
   "name": "python3"
  },
  "language_info": {
   "codemirror_mode": {
    "name": "ipython",
    "version": 3
   },
   "file_extension": ".py",
   "mimetype": "text/x-python",
   "name": "python",
   "nbconvert_exporter": "python",
   "pygments_lexer": "ipython3",
   "version": "3.12.1"
  }
 },
 "nbformat": 4,
 "nbformat_minor": 2
}
