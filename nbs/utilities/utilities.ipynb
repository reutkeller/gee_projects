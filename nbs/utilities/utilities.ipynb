{
 "cells": [
  {
   "cell_type": "code",
   "execution_count": 1,
   "metadata": {},
   "outputs": [],
   "source": [
    "#|default_exp util_func"
   ]
  },
  {
   "cell_type": "markdown",
   "metadata": {},
   "source": [
    "# Utilities"
   ]
  },
  {
   "cell_type": "code",
   "execution_count": 6,
   "metadata": {},
   "outputs": [],
   "source": [
    "#|hide\n",
    "from nbdev.showdoc import *"
   ]
  },
  {
   "cell_type": "code",
   "execution_count": 25,
   "metadata": {},
   "outputs": [],
   "source": [
    "#|hide\n",
    "#|export\n",
    "\n",
    "import geopandas as gpd\n",
    "import seaborn as sns\n",
    "from shapely.geometry import Point\n",
    "import json\n",
    "import ee\n",
    "from datetime import datetime, timedelta\n",
    "import geemap \n",
    "\n",
    "ee.Authenticate()\n",
    "ee.Initialize(project='ee-reutkeller')\n",
    "\n",
    "from gee_projects import const_vars as const\n",
    "from gee_projects import img_sen2 as sen2\n",
    "from gee_projects import util_func as utils"
   ]
  },
  {
   "cell_type": "markdown",
   "metadata": {},
   "source": [
    "Read geodataframe"
   ]
  },
  {
   "cell_type": "code",
   "execution_count": 8,
   "metadata": {},
   "outputs": [],
   "source": [
    "#|export\n",
    "\n",
    "def read_gdf(geometry_path : str , #path to geometry file (.shp /.gpkg). Path string should be written with r, for example r\"path/to/geom/geom.gpkg\"\n",
    "                  crs : str , #crs code , for example '4326'. the coordinate reference system code to be used\n",
    "                  ):\n",
    "  \n",
    "  gdf = gpd.read_file(geometry_path)\n",
    "  gdf = gdf.set_crs(crs)\n",
    "\n",
    "  return gdf"
   ]
  },
  {
   "cell_type": "code",
   "execution_count": 9,
   "metadata": {},
   "outputs": [],
   "source": [
    "gdf = read_gdf(geometry_path=r\"D:\\git\\gee_maps\\nbs\\geometry\\test_bbox.gpkg\",\n",
    "         crs='4326')"
   ]
  },
  {
   "cell_type": "markdown",
   "metadata": {},
   "source": [
    "GeoDataFrame to FeatureCollection"
   ]
  },
  {
   "cell_type": "code",
   "execution_count": 10,
   "metadata": {},
   "outputs": [],
   "source": [
    "#|export\n",
    "\n",
    "def gdf_to_featureCollection(\n",
    "  gdf : gpd.GeoDataFrame , # geopandas geodataframe data\n",
    "  ):\n",
    "  ''' convert geodataframe to ee FeatureCollection type, based on this post https://gis.stackexchange.com/questions/439924/convert-local-file-shp-csv-into-earth-engine-ee-object'''\n",
    "  \n",
    "  # convert to json\n",
    "  geo_json = gdf.to_json()\n",
    "\n",
    "  #convert to FeatureCollection\n",
    "  featureCollection = ee.FeatureCollection(json.loads(geo_json))\n",
    "\n",
    "\n",
    "  return featureCollection\n",
    "  "
   ]
  },
  {
   "cell_type": "code",
   "execution_count": 11,
   "metadata": {},
   "outputs": [
    {
     "data": {
      "text/plain": [
       "{'type': 'FeatureCollection',\n",
       " 'columns': {'id': 'Integer', 'name': 'Integer', 'system:index': 'String'},\n",
       " 'features': [{'type': 'Feature',\n",
       "   'geometry': {'type': 'Polygon',\n",
       "    'coordinates': [[[34.1987406954507, 31.596126146017752],\n",
       "      [34.19186977768542, 31.205628986357716],\n",
       "      [34.60526999656305, 31.19646776267068],\n",
       "      [34.63046336170241, 31.61101313450919],\n",
       "      [34.1987406954507, 31.596126146017752]]]},\n",
       "   'id': '0',\n",
       "   'properties': {'id': 1, 'name': 1}}]}"
      ]
     },
     "execution_count": 11,
     "metadata": {},
     "output_type": "execute_result"
    }
   ],
   "source": [
    "fc = gdf_to_featureCollection(gdf)\n",
    "fc.getInfo()"
   ]
  },
  {
   "cell_type": "markdown",
   "metadata": {},
   "source": [
    "Dates functions"
   ]
  },
  {
   "cell_type": "code",
   "execution_count": 12,
   "metadata": {},
   "outputs": [],
   "source": [
    "#|export\n",
    "\n",
    "def list_dates(img_coll):\n",
    "  # Function to extract dates from image collection\n",
    "  def extract_dates(img):\n",
    "      date = ee.Date(img.get(const.system_time_start_str)).format(const.date_format_1)\n",
    "      return ee.Feature(None, {'date': date})\n",
    "\n",
    "  # Map the function over the image collection\n",
    "  dates_list = img_coll.map(extract_dates).aggregate_array('date').getInfo()\n",
    "  return dates_list\n",
    "\n"
   ]
  },
  {
   "cell_type": "code",
   "execution_count": 13,
   "metadata": {},
   "outputs": [],
   "source": [
    "#|export\n",
    "def find_closest_date(user_date : str , # the date that the user wants to get image for\n",
    "                      date_list : list , #list of available dates in imageCollection\n",
    "                      ):\n",
    "    '''\n",
    "The function identifies the nearest date in the image collection based on the provided reference date'''\n",
    "\n",
    "    # Convert user-provided date string to datetime object\n",
    "    user_datetime = datetime.strptime(user_date, const.date_format_2)\n",
    "\n",
    "    # Convert the list of date strings to datetime objects\n",
    "    date_objects = [datetime.strptime(date, const.date_format_2) for date in date_list]\n",
    "\n",
    "    # Find the closest date in the list\n",
    "    closest_date = min(date_objects, key=lambda date: abs(date - user_datetime))\n",
    "\n",
    "    # Convert the closest date back to string format\n",
    "    closest_date_str = closest_date.strftime(const.date_format_2)\n",
    "\n",
    "    return closest_date_str"
   ]
  },
  {
   "cell_type": "code",
   "execution_count": 14,
   "metadata": {},
   "outputs": [],
   "source": [
    "#|export\n",
    "def get_day_before_day_after(\n",
    "        date_str : str , # Produce list with the date before and the date after a given date\n",
    "                             ):\n",
    "        input_date = datetime.strptime(date_str, const.date_format_2)\n",
    "        day_before = (input_date - timedelta(days=1)).strftime(const.date_format_2)\n",
    "        day_after = (input_date + timedelta(days=1)).strftime(const.date_format_2)\n",
    "        return [day_before, day_after]"
   ]
  },
  {
   "cell_type": "markdown",
   "metadata": {},
   "source": [
    "Reducers"
   ]
  },
  {
   "cell_type": "code",
   "execution_count": 15,
   "metadata": {},
   "outputs": [],
   "source": [
    "#|export\n",
    "\n",
    "def get_reducer_with_names( reducer : str , # the reducer to be used, one of the following : mean, median, min, max,std, mode\n",
    "                           ):\n",
    "  if reducer == 'mean':\n",
    "    ee_reducer = ee.Reducer.mean()\n",
    "\n",
    "  elif reducer == 'median':\n",
    "    ee_reducer = ee.Reducer.median()\n",
    "\n",
    "  elif reducer == 'min':\n",
    "    ee_reducer = ee.Reducer.min()\n",
    "\n",
    "  elif reducer == 'max' :\n",
    "    ee_reducer == ee.Reducer.max()\n",
    "\n",
    "  elif reducer == 'mode':\n",
    "    ee_reducer == ee.Reducer.mode()\n",
    "\n",
    "  elif reducer == 'std':\n",
    "    ee_reducer == ee.Reducer.stdDev()\n",
    "\n",
    "  return reducer, ee_reducer "
   ]
  },
  {
   "cell_type": "code",
   "execution_count": 20,
   "metadata": {},
   "outputs": [],
   "source": [
    "#|export\n",
    "# function to calculate the mean spectral index for the region of interest (polygon)\n",
    "def reduce_region(img : ee.Image , # the image that we want to apply the statistics calculation on\n",
    "                  reducer :  str , #the reducer to be used, should be imported from constant module.       \n",
    "                  fc : ee.featurecollection , #featureCollection , the geometry that will be used to sample the region\n",
    "                  scale : float , # the scale of the sampled image\n",
    "                  \n",
    "                  ):\n",
    "    _, ee_reducer  = get_reducer_with_names(reducer)\n",
    "\n",
    "    reduced_regions = img.reduceRegion(\n",
    "        reducer=ee_reducer,\n",
    "        geometry=fc,\n",
    "        scale=scale,  \n",
    "        maxPixels= const.max_pixels_float\n",
    "    )\n",
    "\n",
    "    return geemap.ee_to_gdf(reduced_regions, selectors=None, verbose=False)\n",
    "    # return img.set('date', img.date().format('YYYY-MM-dd')).set(reducer,reduced_region.get('NDVI'))\n"
   ]
  },
  {
   "cell_type": "code",
   "execution_count": 23,
   "metadata": {},
   "outputs": [
    {
     "name": "stdout",
     "output_type": "stream",
     "text": [
      "Requested date: 2023-01-01\n",
      "The nearest date available: 2023-01-05\n"
     ]
    }
   ],
   "source": [
    "#access image collection\n",
    "# access image using the img_sen2 class\n",
    "extractor = sen2.access_s2_image(path_to_geometry=r\"D:\\git\\gee_maps\\nbs\\geometry\\test_bbox.gpkg\", \n",
    "                            crs = \"4326\",\n",
    "                            start_date = '2023-01-01',\n",
    "                            end_date = '2024-12-23',\n",
    "                            one_day_image = True,\n",
    "                            # this is just a fictive vairable for the function to run but it can be \n",
    "                            user_date = '2023-01-01'\n",
    "                            )\n",
    "\n",
    "#get image collection\n",
    "img=extractor.img"
   ]
  },
  {
   "cell_type": "code",
   "execution_count": 26,
   "metadata": {},
   "outputs": [
    {
     "ename": "AttributeError",
     "evalue": "module 'gee_projects.const_vars' has no attribute 'max_pixels_float'",
     "output_type": "error",
     "traceback": [
      "\u001b[1;31m---------------------------------------------------------------------------\u001b[0m",
      "\u001b[1;31mAttributeError\u001b[0m                            Traceback (most recent call last)",
      "Cell \u001b[1;32mIn[26], line 4\u001b[0m\n\u001b[0;32m      1\u001b[0m gdf\u001b[38;5;241m=\u001b[39mutils\u001b[38;5;241m.\u001b[39mread_gdf(geometry_path\u001b[38;5;241m=\u001b[39m\u001b[38;5;124mr\u001b[39m\u001b[38;5;124m\"\u001b[39m\u001b[38;5;124mD:\u001b[39m\u001b[38;5;124m\\\u001b[39m\u001b[38;5;124mgit\u001b[39m\u001b[38;5;124m\\\u001b[39m\u001b[38;5;124mgee_maps\u001b[39m\u001b[38;5;124m\\\u001b[39m\u001b[38;5;124mnbs\u001b[39m\u001b[38;5;124m\\\u001b[39m\u001b[38;5;124mgeometry\u001b[39m\u001b[38;5;124m\\\u001b[39m\u001b[38;5;124mtest_bbox.gpkg\u001b[39m\u001b[38;5;124m\"\u001b[39m,crs\u001b[38;5;241m=\u001b[39m\u001b[38;5;124m'\u001b[39m\u001b[38;5;124m4326\u001b[39m\u001b[38;5;124m'\u001b[39m)\n\u001b[0;32m      2\u001b[0m fct\u001b[38;5;241m=\u001b[39mutils\u001b[38;5;241m.\u001b[39mgdf_to_featureCollection(gdf)\n\u001b[1;32m----> 4\u001b[0m test\u001b[38;5;241m=\u001b[39m\u001b[43mreduce_region\u001b[49m\u001b[43m(\u001b[49m\u001b[43mimg\u001b[49m\u001b[43m \u001b[49m\u001b[38;5;241;43m=\u001b[39;49m\u001b[43mimg\u001b[49m\u001b[43m,\u001b[49m\n\u001b[0;32m      5\u001b[0m \u001b[43m              \u001b[49m\u001b[43mreducer\u001b[49m\u001b[43m \u001b[49m\u001b[38;5;241;43m=\u001b[39;49m\u001b[38;5;124;43m'\u001b[39;49m\u001b[38;5;124;43mmean\u001b[39;49m\u001b[38;5;124;43m'\u001b[39;49m\u001b[43m,\u001b[49m\n\u001b[0;32m      6\u001b[0m \u001b[43m              \u001b[49m\u001b[43mfc\u001b[49m\u001b[43m \u001b[49m\u001b[38;5;241;43m=\u001b[39;49m\u001b[43m \u001b[49m\u001b[43mfct\u001b[49m\u001b[43m,\u001b[49m\n\u001b[0;32m      7\u001b[0m \u001b[43m              \u001b[49m\u001b[43mscale\u001b[49m\u001b[43m \u001b[49m\u001b[38;5;241;43m=\u001b[39;49m\u001b[38;5;241;43m10\u001b[39;49m\u001b[43m)\u001b[49m\n",
      "Cell \u001b[1;32mIn[20], line 15\u001b[0m, in \u001b[0;36mreduce_region\u001b[1;34m(img, reducer, fc, scale)\u001b[0m\n\u001b[0;32m      3\u001b[0m \u001b[38;5;28;01mdef\u001b[39;00m \u001b[38;5;21mreduce_region\u001b[39m(img : ee\u001b[38;5;241m.\u001b[39mImage , \u001b[38;5;66;03m# the image that we want to apply the statistics calculation on\u001b[39;00m\n\u001b[0;32m      4\u001b[0m                   reducer :  \u001b[38;5;28mstr\u001b[39m , \u001b[38;5;66;03m#the reducer to be used, should be imported from constant module.       \u001b[39;00m\n\u001b[0;32m      5\u001b[0m                   fc : ee\u001b[38;5;241m.\u001b[39mfeaturecollection , \u001b[38;5;66;03m#featureCollection , the geometry that will be used to sample the region\u001b[39;00m\n\u001b[0;32m      6\u001b[0m                   scale : \u001b[38;5;28mfloat\u001b[39m , \u001b[38;5;66;03m# the scale of the sampled image\u001b[39;00m\n\u001b[0;32m      7\u001b[0m                   \n\u001b[0;32m      8\u001b[0m                   ):\n\u001b[0;32m      9\u001b[0m     _, ee_reducer  \u001b[38;5;241m=\u001b[39m get_reducer_with_names(reducer)\n\u001b[0;32m     11\u001b[0m     reduced_regions \u001b[38;5;241m=\u001b[39m img\u001b[38;5;241m.\u001b[39mreduceRegion(\n\u001b[0;32m     12\u001b[0m         reducer\u001b[38;5;241m=\u001b[39mee_reducer,\n\u001b[0;32m     13\u001b[0m         geometry\u001b[38;5;241m=\u001b[39mfc,\n\u001b[0;32m     14\u001b[0m         scale\u001b[38;5;241m=\u001b[39mscale,  \n\u001b[1;32m---> 15\u001b[0m         maxPixels\u001b[38;5;241m=\u001b[39m \u001b[43mconst\u001b[49m\u001b[38;5;241;43m.\u001b[39;49m\u001b[43mmax_pixels_float\u001b[49m\n\u001b[0;32m     16\u001b[0m     )\n\u001b[0;32m     18\u001b[0m     \u001b[38;5;28;01mreturn\u001b[39;00m geemap\u001b[38;5;241m.\u001b[39mee_to_gdf(reduced_regions, selectors\u001b[38;5;241m=\u001b[39m\u001b[38;5;28;01mNone\u001b[39;00m, verbose\u001b[38;5;241m=\u001b[39m\u001b[38;5;28;01mFalse\u001b[39;00m)\n",
      "\u001b[1;31mAttributeError\u001b[0m: module 'gee_projects.const_vars' has no attribute 'max_pixels_float'"
     ]
    }
   ],
   "source": [
    "gdf=utils.read_gdf(geometry_path=r\"D:\\git\\gee_maps\\nbs\\geometry\\test_bbox.gpkg\",crs='4326')\n",
    "fct=utils.gdf_to_featureCollection(gdf)\n",
    "\n",
    "test=reduce_region(img =img,\n",
    "              reducer ='mean',\n",
    "              fc = fct,\n",
    "              scale =10)"
   ]
  },
  {
   "cell_type": "code",
   "execution_count": null,
   "metadata": {},
   "outputs": [],
   "source": []
  }
 ],
 "metadata": {
  "kernelspec": {
   "display_name": ".venv",
   "language": "python",
   "name": "python3"
  },
  "language_info": {
   "codemirror_mode": {
    "name": "ipython",
    "version": 3
   },
   "file_extension": ".py",
   "mimetype": "text/x-python",
   "name": "python",
   "nbconvert_exporter": "python",
   "pygments_lexer": "ipython3",
   "version": "3.12.1"
  }
 },
 "nbformat": 4,
 "nbformat_minor": 2
}
