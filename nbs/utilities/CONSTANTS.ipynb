{
 "cells": [
  {
   "cell_type": "code",
   "execution_count": null,
   "metadata": {},
   "outputs": [],
   "source": [
    "#|default_exp const_vars"
   ]
  },
  {
   "cell_type": "markdown",
   "metadata": {},
   "source": [
    "# Constants"
   ]
  },
  {
   "cell_type": "code",
   "execution_count": 1,
   "metadata": {},
   "outputs": [],
   "source": [
    "#|hide\n",
    "from nbdev.showdoc import *"
   ]
  },
  {
   "cell_type": "code",
   "execution_count": 2,
   "metadata": {},
   "outputs": [],
   "source": [
    "#|hide\n",
    "#|export\n",
    "\n",
    "import geopandas as gpd\n",
    "import seaborn as sns\n",
    "import ee\n",
    "import geemap \n",
    "ee.Authenticate()\n",
    "ee.Initialize(project='ee-reutkeller')\n"
   ]
  },
  {
   "cell_type": "markdown",
   "metadata": {},
   "source": [
    "Sentinel 2 constants"
   ]
  },
  {
   "cell_type": "code",
   "execution_count": 3,
   "metadata": {},
   "outputs": [],
   "source": [
    "#|export\n",
    "CLOUD_FILTER = 60\n",
    "CLD_PRB_THRESH = 50\n",
    "NIR_DRK_THRESH = 0.15\n",
    "CLD_PRJ_DIST = 1\n",
    "BUFFER = 50\n",
    "\n",
    "CLOUDY_PIXEL_PERCENTAGE_STR='CLOUDY_PIXEL_PERCENTAGE'\n",
    "COPERNICUS_S2_CLOUD_PROBABILITY_STR='COPERNICUS/S2_CLOUD_PROBABILITY'"
   ]
  },
  {
   "cell_type": "code",
   "execution_count": 4,
   "metadata": {},
   "outputs": [],
   "source": [
    "#|export\n",
    "\n",
    "#S2 image collection\n",
    "s2_img_collection_str='COPERNICUS/S2_SR_HARMONIZED'\n",
    "\n",
    "#clouds bands names\n",
    "s2cloudless_str='s2cloudless'\n",
    "probability_str='probability'\n",
    "clouds_name_bands_str='clouds'\n",
    "\n",
    "\n",
    "#shadow bands names\n",
    "SCL_str= 'SCL'\n",
    "SCL_VALUE_int = 6\n",
    "SR_BAND_SCALE_int = 1e4\n",
    "B8_str = 'B8'\n",
    "dark_pixels_str='dark_pixels'\n",
    "direction_int = 90\n",
    "MEAN_SOLAR_AZIMUTH_ANGLE_str='MEAN_SOLAR_AZIMUTH_ANGLE'\n",
    "int_10 = 10\n",
    "cloud_transform_str='cloud_transform'\n",
    "distance_str = 'distance'\n",
    "scale_str= 'scale'\n",
    "scale_str_size = 100\n",
    "shadows_str = 'shadows'\n",
    "crs_str = 'crs'\n",
    "scale_2_int = 20\n",
    "cloudmask_str ='cloudmask'\n",
    "find_band_str = 'B.*'\n"
   ]
  },
  {
   "cell_type": "markdown",
   "metadata": {},
   "source": [
    "Dates"
   ]
  },
  {
   "cell_type": "code",
   "execution_count": 5,
   "metadata": {},
   "outputs": [],
   "source": [
    "#|export\n",
    "\n",
    "system_time_start_str ='system:time_start'\n",
    "date_format_1 = 'YYYY-MM-dd'\n",
    "date_format_2 = '%Y-%m-%d'\n",
    "date_str='date'"
   ]
  },
  {
   "cell_type": "code",
   "execution_count": 8,
   "metadata": {},
   "outputs": [],
   "source": [
    "#|export\n",
    "\n",
    "MEAN_reducer_str = ee.Reducer.mean()\n",
    "MEDIAN_reducer_str = ee.Reducer.median()\n",
    "MAX_reducer_str = ee.Reducer.max()\n",
    "MIN_reducer_str = ee.Reducer.min()\n",
    "MODE_reducer_str = ee.Reducer.mode()"
   ]
  },
  {
   "cell_type": "code",
   "execution_count": null,
   "metadata": {},
   "outputs": [],
   "source": []
  },
  {
   "cell_type": "code",
   "execution_count": null,
   "metadata": {},
   "outputs": [],
   "source": []
  }
 ],
 "metadata": {
  "kernelspec": {
   "display_name": ".venv",
   "language": "python",
   "name": "python3"
  },
  "language_info": {
   "codemirror_mode": {
    "name": "ipython",
    "version": 3
   },
   "file_extension": ".py",
   "mimetype": "text/x-python",
   "name": "python",
   "nbconvert_exporter": "python",
   "pygments_lexer": "ipython3",
   "version": "3.12.1"
  }
 },
 "nbformat": 4,
 "nbformat_minor": 2
}
